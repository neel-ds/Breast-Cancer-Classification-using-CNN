{
 "cells": [
  {
   "cell_type": "markdown",
   "metadata": {
    "id": "BcTA2NSo19Io"
   },
   "source": [
    "## Importing libraries"
   ]
  },
  {
   "cell_type": "code",
   "execution_count": 1,
   "metadata": {
    "id": "qNYJ2GLy13Ui"
   },
   "outputs": [],
   "source": [
    "#Import libraries for Data Preprocessing & Data Augmentation\n",
    "import os\n",
    "import PIL\n",
    "import numpy as np\n",
    "import cv2\n",
    "import matplotlib.pyplot as plt\n",
    "import tensorflow as tf\n",
    "from pathlib import Path\n",
    "from skimage import io\n",
    "from PIL import Image\n",
    "from keras.preprocessing.image import ImageDataGenerator\n",
    "\n",
    "#Import libraries for Model Implementation \n",
    "from sklearn.model_selection import train_test_split\n",
    "from sklearn.metrics import classification_report\n",
    "from tensorflow import keras\n",
    "from keras import layers, optimizers\n",
    "from keras.layers import Input, Flatten\n",
    "from keras.models import Sequential, Model\n",
    "from keras_tuner import RandomSearch\n",
    "from keras_tuner.engine.hyperparameters import HyperParameters\n",
    "from keras.applications.resnet import ResNet50\n",
    "from keras.applications.densenet import DenseNet201\n",
    "from keras.applications.vgg16 import VGG16\n",
    "from keras.applications.xception import Xception\n",
    "import warnings\n",
    "warnings.simplefilter(\"ignore\")"
   ]
  },
  {
   "cell_type": "markdown",
   "metadata": {},
   "source": [
    "## Loading and transforming dataset"
   ]
  },
  {
   "cell_type": "code",
   "execution_count": 2,
   "metadata": {},
   "outputs": [],
   "source": [
    "def extract_feature(path, label):         #Load the images from given path and labeling\n",
    "    data = []\n",
    "    for img in os.listdir(path):\n",
    "        image = cv2.imread(os.path.join(path, img), 0)\n",
    "        if image is not None:\n",
    "            data.append([image, label])\n",
    "    return data\n",
    "\n",
    "def transform_feature(data):              #Transform dataset using resize, rescale, reshape\n",
    "    images, labels = [],[]\n",
    "    size = 128\n",
    "    for img,label in data:\n",
    "        images.append((cv2.resize(img,(size,size)))/255)\n",
    "        labels.append(label)\n",
    "    img_array = np.array(images)\n",
    "    X = img_array.reshape(img_array.shape[0],img_array.shape[1],img_array.shape[2],1)\n",
    "    return X, labels\n",
    "\n",
    "def vgg_transform_feature(data):         #Transform dataset using resize, rescale, reshape for Xception model\n",
    "    images, labels = [],[]\n",
    "    size = 299\n",
    "    for img,label in data:\n",
    "        images.append((cv2.resize(img,(size,size)))/255)\n",
    "        labels.append(label)\n",
    "    img_array = np.array(images)\n",
    "    X = img_array.reshape(img_array.shape[0],img_array.shape[1],img_array.shape[2],1)\n",
    "    return X, labels"
   ]
  },
  {
   "cell_type": "code",
   "execution_count": 3,
   "metadata": {},
   "outputs": [],
   "source": [
    "data = extract_feature(\"Dataset_BUSI_with_GT/benign\",0) #Call the function to load images with label\n",
    "data.extend(extract_feature(\"Dataset_BUSI_with_GT/malignant\",1))"
   ]
  },
  {
   "cell_type": "code",
   "execution_count": 4,
   "metadata": {},
   "outputs": [
    {
     "data": {
      "text/plain": [
       "(1312, 128, 128, 1)"
      ]
     },
     "execution_count": 4,
     "metadata": {},
     "output_type": "execute_result"
    }
   ],
   "source": [
    "X, labels = transform_feature(data)   #Call the function to transform and return with image array & label\n",
    "X.shape"
   ]
  },
  {
   "cell_type": "code",
   "execution_count": 5,
   "metadata": {},
   "outputs": [],
   "source": [
    "X_train, X_test, Y_train, Y_test = train_test_split(X , labels, train_size=0.75, random_state=42)"
   ]
  },
  {
   "cell_type": "markdown",
   "metadata": {},
   "source": [
    "### Augmented Data"
   ]
  },
  {
   "cell_type": "markdown",
   "metadata": {
    "id": "Kr2mlQWqX4Pa"
   },
   "source": [
    "**Generator for augmenting data**"
   ]
  },
  {
   "cell_type": "code",
   "execution_count": null,
   "metadata": {
    "id": "m9nUHaoYYvtG"
   },
   "outputs": [],
   "source": [
    "data_generator = ImageDataGenerator(       #Parameters for data augmentation\n",
    "    rotation_range = 20,\n",
    "    shear_range = 0.2,\n",
    "    horizontal_flip = True\n",
    ")\n",
    "\n",
    "cnt_path = r'Dataset_BUSI_with_GT/benign/'\n",
    "size = 224\n",
    "img_list = []\n",
    "images = os.listdir(cnt_path)\n",
    "for _, img_name in enumerate(images):    \n",
    "    if (img_name.split('.')[1] == 'png'):        \n",
    "        img = io.imread(cnt_path + img_name)        \n",
    "        img = Image.fromarray(img, 'RGB')        \n",
    "        img = img.resize((size,size)) \n",
    "        img_list.append(np.array(img))\n",
    "img_array = np.array(img_list)\n",
    "i = 0\n",
    "for _ in data_generator.flow(img_array, batch_size=8, save_to_dir= r'aug_data/benign', \n",
    "                             save_prefix='aug', save_format='png'):    \n",
    "    i += 1    \n",
    "    if i > 100:        \n",
    "        break"
   ]
  },
  {
   "cell_type": "code",
   "execution_count": 6,
   "metadata": {},
   "outputs": [],
   "source": [
    "def aug_transform_feature(data):              #Transform dataset using resize, rescale, reshape\n",
    "    images, labels = [],[]\n",
    "    size=128\n",
    "    for img,label in data:\n",
    "        images.append((cv2.resize(img,(size,size)))/255)\n",
    "        labels.append(label)\n",
    "    img_array = np.array(images)\n",
    "    X = img_array.reshape(img_array.shape[0],img_array.shape[1],img_array.shape[2],1)\n",
    "    return X, labels"
   ]
  },
  {
   "cell_type": "code",
   "execution_count": 7,
   "metadata": {},
   "outputs": [],
   "source": [
    "aug_data = extract_feature(\"aug_data/benign\",0)\n",
    "aug_data.extend(extract_feature(\"aug_data/malignant\",1))"
   ]
  },
  {
   "cell_type": "code",
   "execution_count": 8,
   "metadata": {},
   "outputs": [
    {
     "data": {
      "text/plain": [
       "(3057, 128, 128, 1)"
      ]
     },
     "execution_count": 8,
     "metadata": {},
     "output_type": "execute_result"
    }
   ],
   "source": [
    "x, label = aug_transform_feature(aug_data)\n",
    "x.shape"
   ]
  },
  {
   "cell_type": "code",
   "execution_count": 9,
   "metadata": {},
   "outputs": [],
   "source": [
    "x_train, x_test, y_train, y_test = train_test_split(x , label, train_size=0.75, random_state=42)"
   ]
  },
  {
   "cell_type": "markdown",
   "metadata": {},
   "source": [
    "**Function for classification report of any model**"
   ]
  },
  {
   "cell_type": "code",
   "execution_count": 10,
   "metadata": {},
   "outputs": [],
   "source": [
    "def report(model, aug = False):\n",
    "    if aug:\n",
    "        xtest = x_test\n",
    "        y_true = y_test\n",
    "    else:\n",
    "        xtest = X_test\n",
    "        y_true = Y_test\n",
    "    y_pred = []\n",
    "    for i in model.predict(xtest,batch_size=10,verbose=0):\n",
    "        y_pred.append(np.argmax(i))\n",
    "    print(classification_report(y_true, y_pred, target_names= ['benign','malignant']))"
   ]
  },
  {
   "cell_type": "markdown",
   "metadata": {
    "id": "FCXWCnLvUqNP"
   },
   "source": [
    "# BASE MODEL"
   ]
  },
  {
   "cell_type": "code",
   "execution_count": 11,
   "metadata": {
    "id": "xLC_AzI9W8ds"
   },
   "outputs": [
    {
     "name": "stdout",
     "output_type": "stream",
     "text": [
      "Metal device set to: Apple M1\n",
      "Model: \"sequential\"\n",
      "_________________________________________________________________\n",
      " Layer (type)                Output Shape              Param #   \n",
      "=================================================================\n",
      " conv2d (Conv2D)             (None, 128, 128, 16)      272       \n",
      "                                                                 \n",
      " max_pooling2d (MaxPooling2D  (None, 64, 64, 16)       0         \n",
      " )                                                               \n",
      "                                                                 \n",
      " conv2d_1 (Conv2D)           (None, 64, 64, 32)        8224      \n",
      "                                                                 \n",
      " max_pooling2d_1 (MaxPooling  (None, 32, 32, 32)       0         \n",
      " 2D)                                                             \n",
      "                                                                 \n",
      " conv2d_2 (Conv2D)           (None, 32, 32, 64)        32832     \n",
      "                                                                 \n",
      " max_pooling2d_2 (MaxPooling  (None, 16, 16, 64)       0         \n",
      " 2D)                                                             \n",
      "                                                                 \n",
      " batch_normalization (BatchN  (None, 16, 16, 64)       256       \n",
      " ormalization)                                                   \n",
      "                                                                 \n",
      " flatten (Flatten)           (None, 16384)             0         \n",
      "                                                                 \n",
      " dense (Dense)               (None, 128)               2097280   \n",
      "                                                                 \n",
      " dropout (Dropout)           (None, 128)               0         \n",
      "                                                                 \n",
      " dense_1 (Dense)             (None, 64)                8256      \n",
      "                                                                 \n",
      " dropout_1 (Dropout)         (None, 64)                0         \n",
      "                                                                 \n",
      " dense_2 (Dense)             (None, 32)                2080      \n",
      "                                                                 \n",
      " dropout_2 (Dropout)         (None, 32)                0         \n",
      "                                                                 \n",
      " dense_3 (Dense)             (None, 2)                 66        \n",
      "                                                                 \n",
      "=================================================================\n",
      "Total params: 2,149,266\n",
      "Trainable params: 2,149,138\n",
      "Non-trainable params: 128\n",
      "_________________________________________________________________\n"
     ]
    },
    {
     "name": "stderr",
     "output_type": "stream",
     "text": [
      "2022-02-21 21:52:21.911551: I tensorflow/core/common_runtime/pluggable_device/pluggable_device_factory.cc:305] Could not identify NUMA node of platform GPU ID 0, defaulting to 0. Your kernel may not have been built with NUMA support.\n",
      "2022-02-21 21:52:21.911641: I tensorflow/core/common_runtime/pluggable_device/pluggable_device_factory.cc:271] Created TensorFlow device (/job:localhost/replica:0/task:0/device:GPU:0 with 0 MB memory) -> physical PluggableDevice (device: 0, name: METAL, pci bus id: <undefined>)\n"
     ]
    }
   ],
   "source": [
    "#First Base Model \n",
    "model1 = Sequential([\n",
    "    layers.Conv2D(16, 4, padding = 'same', activation = 'relu', input_shape=(128,128,1)),\n",
    "    layers.MaxPooling2D(),\n",
    "    layers.Conv2D(32, 4, padding = 'same', activation = 'relu'),\n",
    "    layers.MaxPooling2D(),\n",
    "    layers.Conv2D(64, 4, padding = 'same', activation = 'relu'),\n",
    "    layers.MaxPooling2D(),\n",
    "    layers.BatchNormalization(),\n",
    "    layers.Flatten(),\n",
    "    layers.Dense(128, activation = 'relu'),\n",
    "    layers.Dropout(0.3),\n",
    "    layers.Dense(64, activation = 'relu'),\n",
    "    layers.Dropout(0.3),\n",
    "    layers.Dense(32, activation = 'relu'),\n",
    "    layers.Dropout(0.3),\n",
    "    layers.Dense(2, activation = 'softmax')\n",
    "])\n",
    "\n",
    "#Compile the model with optimizer and metrics\n",
    "model1.compile(optimizer = 'adam',\n",
    "              loss = tf.keras.losses.SparseCategoricalCrossentropy(from_logits = True),\n",
    "              metrics = ['accuracy'])\n",
    "\n",
    "#Review the model summary\n",
    "model1.summary()"
   ]
  },
  {
   "cell_type": "code",
   "execution_count": 24,
   "metadata": {
    "colab": {
     "base_uri": "https://localhost:8080/"
    },
    "id": "7p9CRbGPZMT8",
    "outputId": "8bec9196-48e0-478a-acbc-aa4f562fbb72"
   },
   "outputs": [
    {
     "name": "stdout",
     "output_type": "stream",
     "text": [
      "Epoch 1/25\n",
      "31/31 - 2s - loss: 0.0800 - accuracy: 0.9807 - val_loss: 3.2372 - val_accuracy: 0.7805 - 2s/epoch - 49ms/step\n",
      "Epoch 2/25\n",
      "31/31 - 1s - loss: 0.0185 - accuracy: 0.9929 - val_loss: 1.5409 - val_accuracy: 0.8110 - 1s/epoch - 44ms/step\n",
      "Epoch 3/25\n",
      "31/31 - 1s - loss: 0.0117 - accuracy: 0.9949 - val_loss: 0.9976 - val_accuracy: 0.8445 - 1s/epoch - 44ms/step\n",
      "Epoch 4/25\n",
      "31/31 - 1s - loss: 0.0175 - accuracy: 0.9959 - val_loss: 0.7699 - val_accuracy: 0.8598 - 1s/epoch - 44ms/step\n",
      "Epoch 5/25\n",
      "31/31 - 1s - loss: 0.0063 - accuracy: 0.9970 - val_loss: 0.7555 - val_accuracy: 0.8659 - 1s/epoch - 44ms/step\n",
      "Epoch 6/25\n",
      "31/31 - 1s - loss: 0.0055 - accuracy: 0.9980 - val_loss: 0.9049 - val_accuracy: 0.8445 - 1s/epoch - 43ms/step\n",
      "Epoch 7/25\n",
      "31/31 - 1s - loss: 0.0037 - accuracy: 0.9980 - val_loss: 0.8835 - val_accuracy: 0.8628 - 1s/epoch - 43ms/step\n",
      "Epoch 8/25\n",
      "31/31 - 1s - loss: 0.0077 - accuracy: 0.9970 - val_loss: 0.8420 - val_accuracy: 0.8659 - 1s/epoch - 44ms/step\n",
      "Epoch 9/25\n",
      "31/31 - 1s - loss: 0.0056 - accuracy: 0.9959 - val_loss: 0.8353 - val_accuracy: 0.8354 - 1s/epoch - 43ms/step\n",
      "Epoch 10/25\n",
      "31/31 - 1s - loss: 0.0066 - accuracy: 0.9980 - val_loss: 0.8331 - val_accuracy: 0.8445 - 1s/epoch - 43ms/step\n",
      "Epoch 11/25\n",
      "31/31 - 1s - loss: 0.0021 - accuracy: 0.9990 - val_loss: 0.8917 - val_accuracy: 0.8689 - 1s/epoch - 44ms/step\n",
      "Epoch 12/25\n",
      "31/31 - 1s - loss: 0.0020 - accuracy: 0.9990 - val_loss: 0.9311 - val_accuracy: 0.8567 - 1s/epoch - 44ms/step\n",
      "Epoch 13/25\n",
      "31/31 - 1s - loss: 0.0038 - accuracy: 0.9990 - val_loss: 0.9303 - val_accuracy: 0.8628 - 1s/epoch - 44ms/step\n",
      "Epoch 14/25\n",
      "31/31 - 1s - loss: 0.0018 - accuracy: 0.9990 - val_loss: 0.9220 - val_accuracy: 0.8628 - 1s/epoch - 43ms/step\n",
      "Epoch 15/25\n",
      "31/31 - 1s - loss: 0.0028 - accuracy: 0.9980 - val_loss: 0.9204 - val_accuracy: 0.8628 - 1s/epoch - 43ms/step\n",
      "Epoch 16/25\n",
      "31/31 - 1s - loss: 0.0017 - accuracy: 0.9990 - val_loss: 0.9333 - val_accuracy: 0.8659 - 1s/epoch - 43ms/step\n",
      "Epoch 17/25\n",
      "31/31 - 1s - loss: 0.0017 - accuracy: 0.9990 - val_loss: 0.9500 - val_accuracy: 0.8659 - 1s/epoch - 44ms/step\n",
      "Epoch 18/25\n",
      "31/31 - 1s - loss: 0.0017 - accuracy: 0.9990 - val_loss: 0.9563 - val_accuracy: 0.8659 - 1s/epoch - 43ms/step\n",
      "Epoch 19/25\n",
      "31/31 - 1s - loss: 0.0025 - accuracy: 0.9980 - val_loss: 1.0079 - val_accuracy: 0.8659 - 1s/epoch - 43ms/step\n",
      "Epoch 20/25\n",
      "31/31 - 1s - loss: 0.0054 - accuracy: 0.9980 - val_loss: 0.9184 - val_accuracy: 0.8689 - 1s/epoch - 44ms/step\n",
      "Epoch 21/25\n",
      "31/31 - 1s - loss: 0.0032 - accuracy: 0.9980 - val_loss: 0.9083 - val_accuracy: 0.8720 - 1s/epoch - 43ms/step\n",
      "Epoch 22/25\n",
      "31/31 - 1s - loss: 0.0070 - accuracy: 0.9980 - val_loss: 1.5325 - val_accuracy: 0.8232 - 1s/epoch - 43ms/step\n",
      "Epoch 23/25\n",
      "31/31 - 1s - loss: 0.0147 - accuracy: 0.9949 - val_loss: 1.4882 - val_accuracy: 0.8323 - 1s/epoch - 43ms/step\n",
      "Epoch 24/25\n",
      "31/31 - 1s - loss: 0.0020 - accuracy: 0.9990 - val_loss: 1.3040 - val_accuracy: 0.8323 - 1s/epoch - 43ms/step\n",
      "Epoch 25/25\n",
      "31/31 - 1s - loss: 0.0028 - accuracy: 0.9990 - val_loss: 1.0855 - val_accuracy: 0.8506 - 1s/epoch - 44ms/step\n"
     ]
    }
   ],
   "source": [
    "#Train the model\n",
    "result = model1.fit(np.array(X_train), np.array(Y_train), epochs = 25,\n",
    "                    validation_data=(X_test, np.array(Y_test)), verbose = 2)"
   ]
  },
  {
   "cell_type": "code",
   "execution_count": 26,
   "metadata": {
    "colab": {
     "base_uri": "https://localhost:8080/",
     "height": 607
    },
    "id": "jw02bUvKcble",
    "outputId": "4d5ee7e5-cd8d-4528-cb05-9f278a9b177b"
   },
   "outputs": [
    {
     "data": {
      "image/png": "[encoded data removed]",
      "text/plain": [
       "<Figure size 1080x360 with 2 Axes>"
      ]
     },
     "metadata": {
      "needs_background": "light"
     },
     "output_type": "display_data"
    }
   ],
   "source": [
    "#Model performance\n",
    "accuracy = result.history['accuracy']\n",
    "val_accuracy = result.history['val_accuracy']\n",
    "loss = result.history['loss']\n",
    "val_loss = result.history['val_loss']\n",
    "\n",
    "epochs = range(25)\n",
    "\n",
    "plt.figure(figsize=(15, 5))\n",
    "plt.subplot(1, 2, 1)\n",
    "plt.plot(epochs, accuracy, label='Training Accuracy')\n",
    "plt.plot(epochs, val_accuracy, label='Validation Accuracy')\n",
    "plt.legend(loc='lower right')\n",
    "plt.title('Model Accuracy')\n",
    "plt.subplot(1, 2, 2)\n",
    "plt.plot(epochs, loss, label='Training Loss')\n",
    "plt.plot(epochs, val_loss, label='Validation Loss')\n",
    "plt.legend(loc='upper right')\n",
    "plt.title('Model Loss')\n",
    "plt.show()"
   ]
  },
  {
   "cell_type": "code",
   "execution_count": 27,
   "metadata": {},
   "outputs": [
    {
     "name": "stdout",
     "output_type": "stream",
     "text": [
      "              precision    recall  f1-score   support\n",
      "\n",
      "      benign       0.87      0.92      0.89       227\n",
      "   malignant       0.79      0.70      0.74       101\n",
      "\n",
      "    accuracy                           0.85       328\n",
      "   macro avg       0.83      0.81      0.82       328\n",
      "weighted avg       0.85      0.85      0.85       328\n",
      "\n"
     ]
    }
   ],
   "source": [
    "report(model1)        #Classification Report"
   ]
  },
  {
   "cell_type": "markdown",
   "metadata": {
    "id": "hSbMExGcaJCA"
   },
   "source": [
    "## BASE Model with Augmentation"
   ]
  },
  {
   "cell_type": "code",
   "execution_count": 28,
   "metadata": {
    "id": "OZcVXQOCaPBt"
   },
   "outputs": [
    {
     "name": "stdout",
     "output_type": "stream",
     "text": [
      "Model: \"sequential_1\"\n",
      "_________________________________________________________________\n",
      " Layer (type)                Output Shape              Param #   \n",
      "=================================================================\n",
      " conv2d_3 (Conv2D)           (None, 128, 128, 16)      160       \n",
      "                                                                 \n",
      " max_pooling2d_3 (MaxPooling  (None, 64, 64, 16)       0         \n",
      " 2D)                                                             \n",
      "                                                                 \n",
      " conv2d_4 (Conv2D)           (None, 64, 64, 32)        4640      \n",
      "                                                                 \n",
      " max_pooling2d_4 (MaxPooling  (None, 32, 32, 32)       0         \n",
      " 2D)                                                             \n",
      "                                                                 \n",
      " conv2d_5 (Conv2D)           (None, 32, 32, 64)        18496     \n",
      "                                                                 \n",
      " max_pooling2d_5 (MaxPooling  (None, 16, 16, 64)       0         \n",
      " 2D)                                                             \n",
      "                                                                 \n",
      " batch_normalization_1 (Batc  (None, 16, 16, 64)       256       \n",
      " hNormalization)                                                 \n",
      "                                                                 \n",
      " flatten_1 (Flatten)         (None, 16384)             0         \n",
      "                                                                 \n",
      " dense_4 (Dense)             (None, 128)               2097280   \n",
      "                                                                 \n",
      " dropout_3 (Dropout)         (None, 128)               0         \n",
      "                                                                 \n",
      " dense_5 (Dense)             (None, 64)                8256      \n",
      "                                                                 \n",
      " dropout_4 (Dropout)         (None, 64)                0         \n",
      "                                                                 \n",
      " dense_6 (Dense)             (None, 32)                2080      \n",
      "                                                                 \n",
      " dropout_5 (Dropout)         (None, 32)                0         \n",
      "                                                                 \n",
      " dense_7 (Dense)             (None, 2)                 66        \n",
      "                                                                 \n",
      "=================================================================\n",
      "Total params: 2,131,234\n",
      "Trainable params: 2,131,106\n",
      "Non-trainable params: 128\n",
      "_________________________________________________________________\n"
     ]
    }
   ],
   "source": [
    "#First base model\n",
    "model2 = Sequential([\n",
    "    layers.Conv2D(16, 3, padding = 'same', activation = 'relu', input_shape=(128,128,1)),\n",
    "    layers.MaxPooling2D(),\n",
    "    layers.Conv2D(32, 3, padding = 'same', activation = 'relu'),\n",
    "    layers.MaxPooling2D(),\n",
    "    layers.Conv2D(64, 3, padding = 'same', activation = 'relu'),\n",
    "    layers.MaxPooling2D(),\n",
    "    layers.BatchNormalization(),\n",
    "    layers.Flatten(),\n",
    "    layers.Dense(128, activation = 'relu'),\n",
    "    layers.Dropout(0.3),\n",
    "    layers.Dense(64, activation = 'relu'),\n",
    "    layers.Dropout(0.3),\n",
    "    layers.Dense(32, activation = 'relu'),\n",
    "    layers.Dropout(0.3),\n",
    "    layers.Dense(2, activation = 'softmax')\n",
    "])\n",
    "\n",
    "#Compile the model with optimizer and metrics\n",
    "model2.compile(optimizer = 'adam',\n",
    "              loss = tf.keras.losses.SparseCategoricalCrossentropy(from_logits = True),\n",
    "              metrics = ['accuracy'])\n",
    "\n",
    "#Review the model summary\n",
    "model2.summary()"
   ]
  },
  {
   "cell_type": "code",
   "execution_count": 29,
   "metadata": {
    "colab": {
     "base_uri": "https://localhost:8080/"
    },
    "id": "FWIAWIENaqGo",
    "outputId": "810c9009-9568-46bf-a618-b46bf37fb01a"
   },
   "outputs": [
    {
     "name": "stdout",
     "output_type": "stream",
     "text": [
      "Epoch 1/50\n"
     ]
    },
    {
     "name": "stderr",
     "output_type": "stream",
     "text": [
      "2022-02-21 22:10:08.243177: I tensorflow/core/grappler/optimizers/custom_graph_optimizer_registry.cc:112] Plugin optimizer for device_type GPU is enabled.\n",
      "2022-02-21 22:10:11.161192: I tensorflow/core/grappler/optimizers/custom_graph_optimizer_registry.cc:112] Plugin optimizer for device_type GPU is enabled.\n"
     ]
    },
    {
     "name": "stdout",
     "output_type": "stream",
     "text": [
      "72/72 - 4s - loss: 0.5767 - accuracy: 0.7129 - val_loss: 0.6846 - val_accuracy: 0.4288 - 4s/epoch - 52ms/step\n",
      "Epoch 2/50\n",
      "72/72 - 3s - loss: 0.4224 - accuracy: 0.8080 - val_loss: 0.6295 - val_accuracy: 0.7935 - 3s/epoch - 39ms/step\n",
      "Epoch 3/50\n",
      "72/72 - 3s - loss: 0.3325 - accuracy: 0.8560 - val_loss: 0.6015 - val_accuracy: 0.8078 - 3s/epoch - 38ms/step\n",
      "Epoch 4/50\n",
      "72/72 - 3s - loss: 0.2725 - accuracy: 0.8752 - val_loss: 0.5309 - val_accuracy: 0.8471 - 3s/epoch - 38ms/step\n",
      "Epoch 5/50\n",
      "72/72 - 3s - loss: 0.2219 - accuracy: 0.9066 - val_loss: 0.4428 - val_accuracy: 0.8549 - 3s/epoch - 38ms/step\n",
      "Epoch 6/50\n",
      "72/72 - 3s - loss: 0.1732 - accuracy: 0.9337 - val_loss: 0.3842 - val_accuracy: 0.8510 - 3s/epoch - 38ms/step\n",
      "Epoch 7/50\n",
      "72/72 - 3s - loss: 0.1226 - accuracy: 0.9503 - val_loss: 0.3073 - val_accuracy: 0.8876 - 3s/epoch - 38ms/step\n",
      "Epoch 8/50\n",
      "72/72 - 3s - loss: 0.0998 - accuracy: 0.9638 - val_loss: 0.3002 - val_accuracy: 0.8667 - 3s/epoch - 38ms/step\n",
      "Epoch 9/50\n",
      "72/72 - 3s - loss: 0.0869 - accuracy: 0.9686 - val_loss: 0.2890 - val_accuracy: 0.8850 - 3s/epoch - 38ms/step\n",
      "Epoch 10/50\n",
      "72/72 - 3s - loss: 0.0589 - accuracy: 0.9795 - val_loss: 2.3772 - val_accuracy: 0.7333 - 3s/epoch - 38ms/step\n",
      "Epoch 11/50\n",
      "72/72 - 3s - loss: 0.0544 - accuracy: 0.9856 - val_loss: 0.4985 - val_accuracy: 0.8824 - 3s/epoch - 38ms/step\n",
      "Epoch 12/50\n",
      "72/72 - 3s - loss: 0.0523 - accuracy: 0.9821 - val_loss: 0.4800 - val_accuracy: 0.8732 - 3s/epoch - 38ms/step\n",
      "Epoch 13/50\n",
      "72/72 - 3s - loss: 0.0476 - accuracy: 0.9847 - val_loss: 0.5937 - val_accuracy: 0.8536 - 3s/epoch - 38ms/step\n",
      "Epoch 14/50\n",
      "72/72 - 3s - loss: 0.1023 - accuracy: 0.9668 - val_loss: 0.6510 - val_accuracy: 0.7399 - 3s/epoch - 38ms/step\n",
      "Epoch 15/50\n",
      "72/72 - 3s - loss: 0.0477 - accuracy: 0.9856 - val_loss: 0.3293 - val_accuracy: 0.9098 - 3s/epoch - 38ms/step\n",
      "Epoch 16/50\n",
      "72/72 - 3s - loss: 0.0312 - accuracy: 0.9891 - val_loss: 0.6034 - val_accuracy: 0.8810 - 3s/epoch - 38ms/step\n",
      "Epoch 17/50\n",
      "72/72 - 3s - loss: 0.0438 - accuracy: 0.9847 - val_loss: 0.6579 - val_accuracy: 0.8484 - 3s/epoch - 38ms/step\n",
      "Epoch 18/50\n",
      "72/72 - 3s - loss: 0.0355 - accuracy: 0.9887 - val_loss: 0.6501 - val_accuracy: 0.8549 - 3s/epoch - 38ms/step\n",
      "Epoch 19/50\n",
      "72/72 - 3s - loss: 0.0174 - accuracy: 0.9956 - val_loss: 0.5157 - val_accuracy: 0.8941 - 3s/epoch - 38ms/step\n",
      "Epoch 20/50\n",
      "72/72 - 3s - loss: 0.0207 - accuracy: 0.9930 - val_loss: 0.4535 - val_accuracy: 0.8980 - 3s/epoch - 38ms/step\n",
      "Epoch 21/50\n",
      "72/72 - 3s - loss: 0.0141 - accuracy: 0.9956 - val_loss: 0.4710 - val_accuracy: 0.9007 - 3s/epoch - 38ms/step\n",
      "Epoch 22/50\n",
      "72/72 - 3s - loss: 0.0093 - accuracy: 0.9974 - val_loss: 0.5324 - val_accuracy: 0.9085 - 3s/epoch - 38ms/step\n",
      "Epoch 23/50\n",
      "72/72 - 3s - loss: 0.0034 - accuracy: 0.9987 - val_loss: 0.4829 - val_accuracy: 0.9124 - 3s/epoch - 38ms/step\n",
      "Epoch 24/50\n",
      "72/72 - 3s - loss: 0.0090 - accuracy: 0.9969 - val_loss: 0.5800 - val_accuracy: 0.8967 - 3s/epoch - 38ms/step\n",
      "Epoch 25/50\n",
      "72/72 - 3s - loss: 0.0126 - accuracy: 0.9965 - val_loss: 0.7127 - val_accuracy: 0.9033 - 3s/epoch - 38ms/step\n",
      "Epoch 26/50\n",
      "72/72 - 3s - loss: 0.0574 - accuracy: 0.9804 - val_loss: 0.5428 - val_accuracy: 0.8758 - 3s/epoch - 38ms/step\n",
      "Epoch 27/50\n",
      "72/72 - 3s - loss: 0.0503 - accuracy: 0.9834 - val_loss: 0.5513 - val_accuracy: 0.8797 - 3s/epoch - 38ms/step\n",
      "Epoch 28/50\n",
      "72/72 - 3s - loss: 0.0136 - accuracy: 0.9948 - val_loss: 0.4992 - val_accuracy: 0.8967 - 3s/epoch - 38ms/step\n",
      "Epoch 29/50\n",
      "72/72 - 3s - loss: 0.0188 - accuracy: 0.9965 - val_loss: 0.4732 - val_accuracy: 0.8928 - 3s/epoch - 38ms/step\n",
      "Epoch 30/50\n",
      "72/72 - 3s - loss: 0.0145 - accuracy: 0.9948 - val_loss: 0.4344 - val_accuracy: 0.8915 - 3s/epoch - 38ms/step\n",
      "Epoch 31/50\n",
      "72/72 - 3s - loss: 0.0107 - accuracy: 0.9961 - val_loss: 0.9715 - val_accuracy: 0.8654 - 3s/epoch - 38ms/step\n",
      "Epoch 32/50\n",
      "72/72 - 3s - loss: 0.0089 - accuracy: 0.9961 - val_loss: 0.5242 - val_accuracy: 0.9072 - 3s/epoch - 38ms/step\n",
      "Epoch 33/50\n",
      "72/72 - 3s - loss: 0.0089 - accuracy: 0.9983 - val_loss: 0.6085 - val_accuracy: 0.9033 - 3s/epoch - 38ms/step\n",
      "Epoch 34/50\n",
      "72/72 - 3s - loss: 0.0037 - accuracy: 0.9991 - val_loss: 0.5597 - val_accuracy: 0.9098 - 3s/epoch - 38ms/step\n",
      "Epoch 35/50\n",
      "72/72 - 3s - loss: 0.0060 - accuracy: 0.9978 - val_loss: 0.6063 - val_accuracy: 0.8941 - 3s/epoch - 38ms/step\n",
      "Epoch 36/50\n",
      "72/72 - 3s - loss: 0.0081 - accuracy: 0.9974 - val_loss: 0.5930 - val_accuracy: 0.8967 - 3s/epoch - 38ms/step\n",
      "Epoch 37/50\n",
      "72/72 - 3s - loss: 0.0048 - accuracy: 0.9987 - val_loss: 0.7622 - val_accuracy: 0.8993 - 3s/epoch - 38ms/step\n",
      "Epoch 38/50\n",
      "72/72 - 3s - loss: 0.0174 - accuracy: 0.9956 - val_loss: 0.6396 - val_accuracy: 0.8784 - 3s/epoch - 38ms/step\n",
      "Epoch 39/50\n",
      "72/72 - 3s - loss: 0.0166 - accuracy: 0.9956 - val_loss: 1.0029 - val_accuracy: 0.8340 - 3s/epoch - 38ms/step\n",
      "Epoch 40/50\n",
      "72/72 - 3s - loss: 0.0342 - accuracy: 0.9908 - val_loss: 0.5379 - val_accuracy: 0.8693 - 3s/epoch - 38ms/step\n",
      "Epoch 41/50\n",
      "72/72 - 3s - loss: 0.0239 - accuracy: 0.9913 - val_loss: 0.5826 - val_accuracy: 0.8993 - 3s/epoch - 38ms/step\n",
      "Epoch 42/50\n",
      "72/72 - 3s - loss: 0.0029 - accuracy: 0.9991 - val_loss: 0.6402 - val_accuracy: 0.9098 - 3s/epoch - 38ms/step\n",
      "Epoch 43/50\n",
      "72/72 - 3s - loss: 0.0075 - accuracy: 0.9974 - val_loss: 0.5866 - val_accuracy: 0.8980 - 3s/epoch - 38ms/step\n",
      "Epoch 44/50\n",
      "72/72 - 3s - loss: 8.6706e-04 - accuracy: 1.0000 - val_loss: 0.5956 - val_accuracy: 0.8980 - 3s/epoch - 38ms/step\n",
      "Epoch 45/50\n",
      "72/72 - 3s - loss: 0.0019 - accuracy: 0.9991 - val_loss: 0.5593 - val_accuracy: 0.9072 - 3s/epoch - 38ms/step\n",
      "Epoch 46/50\n",
      "72/72 - 3s - loss: 0.0058 - accuracy: 0.9991 - val_loss: 0.5246 - val_accuracy: 0.9046 - 3s/epoch - 38ms/step\n",
      "Epoch 47/50\n",
      "72/72 - 3s - loss: 0.0036 - accuracy: 0.9991 - val_loss: 0.5939 - val_accuracy: 0.9085 - 3s/epoch - 38ms/step\n",
      "Epoch 48/50\n",
      "72/72 - 3s - loss: 5.0037e-04 - accuracy: 1.0000 - val_loss: 0.5984 - val_accuracy: 0.9098 - 3s/epoch - 38ms/step\n",
      "Epoch 49/50\n",
      "72/72 - 3s - loss: 0.0013 - accuracy: 0.9996 - val_loss: 0.6030 - val_accuracy: 0.9085 - 3s/epoch - 38ms/step\n",
      "Epoch 50/50\n",
      "72/72 - 3s - loss: 0.0013 - accuracy: 0.9996 - val_loss: 0.6789 - val_accuracy: 0.9124 - 3s/epoch - 38ms/step\n"
     ]
    }
   ],
   "source": [
    "#Train the model\n",
    "result = model2.fit(np.array(x_train), np.array(y_train), epochs = 50,\n",
    "                    validation_data=(x_test, np.array(y_test)), verbose = 2)"
   ]
  },
  {
   "cell_type": "code",
   "execution_count": 30,
   "metadata": {
    "id": "-eqnEVNVe3S2"
   },
   "outputs": [
    {
     "data": {
      "image/png": "[encoded data removed]",
      "text/plain": [
       "<Figure size 1080x360 with 2 Axes>"
      ]
     },
     "metadata": {
      "needs_background": "light"
     },
     "output_type": "display_data"
    }
   ],
   "source": [
    "#Model performance\n",
    "accuracy = result.history['accuracy']\n",
    "val_accuracy = result.history['val_accuracy']\n",
    "loss = result.history['loss']\n",
    "val_loss = result.history['val_loss']\n",
    "\n",
    "epochs = range(50)\n",
    "\n",
    "plt.figure(figsize=(15, 5))\n",
    "plt.subplot(1, 2, 1)\n",
    "plt.plot(epochs, accuracy, label='Training Accuracy')\n",
    "plt.plot(epochs, val_accuracy, label='Validation Accuracy')\n",
    "plt.legend(loc='lower right')\n",
    "plt.title('Model Accuracy')\n",
    "plt.subplot(1, 2, 2)\n",
    "plt.plot(epochs, loss, label='Training Loss')\n",
    "plt.plot(epochs, val_loss, label='Validation Loss')\n",
    "plt.legend(loc='upper right')\n",
    "plt.title('Model Loss')\n",
    "plt.show()"
   ]
  },
  {
   "cell_type": "code",
   "execution_count": 31,
   "metadata": {},
   "outputs": [
    {
     "name": "stderr",
     "output_type": "stream",
     "text": [
      "2022-02-21 22:13:42.081743: I tensorflow/core/grappler/optimizers/custom_graph_optimizer_registry.cc:112] Plugin optimizer for device_type GPU is enabled.\n"
     ]
    },
    {
     "name": "stdout",
     "output_type": "stream",
     "text": [
      "              precision    recall  f1-score   support\n",
      "\n",
      "      benign       0.88      0.91      0.90       328\n",
      "   malignant       0.93      0.91      0.92       437\n",
      "\n",
      "    accuracy                           0.91       765\n",
      "   macro avg       0.91      0.91      0.91       765\n",
      "weighted avg       0.91      0.91      0.91       765\n",
      "\n"
     ]
    }
   ],
   "source": [
    "report(model2, True)"
   ]
  },
  {
   "cell_type": "markdown",
   "metadata": {
    "id": "eVXvLPr9e3S2"
   },
   "source": [
    "# BASE Model with Keras Tuner"
   ]
  },
  {
   "cell_type": "code",
   "execution_count": 32,
   "metadata": {
    "id": "GCDt9i6Xe3S2"
   },
   "outputs": [],
   "source": [
    "def tuned_model(hp):  #Function for tuning model\n",
    "  model = keras.Sequential([\n",
    "    layers.Conv2D(\n",
    "        filters=hp.Int('conv_1_filter', min_value=16, max_value=64, step=16),\n",
    "        kernel_size=hp.Choice('conv_1_kernel', values = [4,5]),\n",
    "        activation='relu',\n",
    "        input_shape=(128,128,1)\n",
    "    ),\n",
    "    layers.MaxPooling2D(),\n",
    "    layers.Conv2D(\n",
    "        filters=hp.Int('conv_1_filter', min_value=64, max_value=128, step=16),\n",
    "        kernel_size=hp.Choice('conv_1_kernel', values = [4,5]), \n",
    "        activation='relu', \n",
    "        input_shape=(128,128,1)),\n",
    "    layers.MaxPooling2D(),\n",
    "    layers.Flatten(),\n",
    "    layers.Dense(units = hp.Int('dense_1_units', min_value=32, max_value=128, step=32), activation='relu'),\n",
    "    layers.Dense(2, activation='softmax')\n",
    "  ])\n",
    "  \n",
    "  model.compile(optimizer='adam',\n",
    "              loss='sparse_categorical_crossentropy',\n",
    "              metrics=['accuracy'])\n",
    "  \n",
    "  return model"
   ]
  },
  {
   "cell_type": "code",
   "execution_count": 33,
   "metadata": {
    "id": "gDMdJMU_e3S2"
   },
   "outputs": [],
   "source": [
    "random_search = RandomSearch(tuned_model, objective='val_accuracy',\n",
    "                          max_trials = 3, directory = 'output', project_name = \"bcc\")"
   ]
  },
  {
   "cell_type": "code",
   "execution_count": 34,
   "metadata": {
    "colab": {
     "base_uri": "https://localhost:8080/"
    },
    "id": "OQ3MOYlAe3S3",
    "outputId": "a7065c2c-c0e8-4d4c-8aef-c855b542ea92"
   },
   "outputs": [
    {
     "name": "stdout",
     "output_type": "stream",
     "text": [
      "Trial 3 Complete [00h 00m 16s]\n",
      "val_accuracy: 0.8018292784690857\n",
      "\n",
      "Best val_accuracy So Far: 0.8048780560493469\n",
      "Total elapsed time: 00h 00m 31s\n",
      "INFO:tensorflow:Oracle triggered exit\n"
     ]
    }
   ],
   "source": [
    "#Search best parameters by training model\n",
    "random_search.search(np.array(X_train), np.array(Y_train), epochs = 5, validation_data=(X_test, np.array(Y_test)))"
   ]
  },
  {
   "cell_type": "code",
   "execution_count": 35,
   "metadata": {
    "id": "23uwfjltlG_U"
   },
   "outputs": [
    {
     "name": "stdout",
     "output_type": "stream",
     "text": [
      "Model: \"sequential\"\n",
      "_________________________________________________________________\n",
      " Layer (type)                Output Shape              Param #   \n",
      "=================================================================\n",
      " conv2d (Conv2D)             (None, 124, 124, 16)      416       \n",
      "                                                                 \n",
      " max_pooling2d (MaxPooling2D  (None, 62, 62, 16)       0         \n",
      " )                                                               \n",
      "                                                                 \n",
      " conv2d_1 (Conv2D)           (None, 58, 58, 16)        6416      \n",
      "                                                                 \n",
      " max_pooling2d_1 (MaxPooling  (None, 29, 29, 16)       0         \n",
      " 2D)                                                             \n",
      "                                                                 \n",
      " flatten (Flatten)           (None, 13456)             0         \n",
      "                                                                 \n",
      " dense (Dense)               (None, 128)               1722496   \n",
      "                                                                 \n",
      " dense_1 (Dense)             (None, 2)                 258       \n",
      "                                                                 \n",
      "=================================================================\n",
      "Total params: 1,729,586\n",
      "Trainable params: 1,729,586\n",
      "Non-trainable params: 0\n",
      "_________________________________________________________________\n"
     ]
    }
   ],
   "source": [
    "model3 = random_search.get_best_models(num_models=1)[0]  #Find the best parameter model\n",
    "model3.summary()"
   ]
  },
  {
   "cell_type": "code",
   "execution_count": 36,
   "metadata": {
    "colab": {
     "base_uri": "https://localhost:8080/"
    },
    "id": "Y2WNDYZJlIZD",
    "outputId": "92f2143f-029e-4cc0-bcdb-3e0cbd1a511a"
   },
   "outputs": [
    {
     "name": "stdout",
     "output_type": "stream",
     "text": [
      "Epoch 6/25\n",
      " 3/31 [=>............................] - ETA: 0s - loss: 0.1759 - accuracy: 0.9167"
     ]
    },
    {
     "name": "stderr",
     "output_type": "stream",
     "text": [
      "2022-02-21 22:18:00.505883: I tensorflow/core/grappler/optimizers/custom_graph_optimizer_registry.cc:112] Plugin optimizer for device_type GPU is enabled.\n"
     ]
    },
    {
     "name": "stdout",
     "output_type": "stream",
     "text": [
      "31/31 [==============================] - 1s 37ms/step - loss: 0.1638 - accuracy: 0.9390 - val_loss: 0.5265 - val_accuracy: 0.8201\n"
     ]
    },
    {
     "name": "stderr",
     "output_type": "stream",
     "text": [
      "2022-02-21 22:18:01.583925: I tensorflow/core/grappler/optimizers/custom_graph_optimizer_registry.cc:112] Plugin optimizer for device_type GPU is enabled.\n"
     ]
    },
    {
     "name": "stdout",
     "output_type": "stream",
     "text": [
      "Epoch 7/25\n",
      "31/31 [==============================] - 1s 33ms/step - loss: 0.0970 - accuracy: 0.9634 - val_loss: 0.6342 - val_accuracy: 0.7866\n",
      "Epoch 8/25\n",
      "31/31 [==============================] - 1s 33ms/step - loss: 0.0515 - accuracy: 0.9848 - val_loss: 0.7591 - val_accuracy: 0.8140\n",
      "Epoch 9/25\n",
      "31/31 [==============================] - 1s 33ms/step - loss: 0.0668 - accuracy: 0.9766 - val_loss: 0.6556 - val_accuracy: 0.7866\n",
      "Epoch 10/25\n",
      "31/31 [==============================] - 1s 33ms/step - loss: 0.0336 - accuracy: 0.9878 - val_loss: 0.7195 - val_accuracy: 0.8262\n",
      "Epoch 11/25\n",
      "31/31 [==============================] - 1s 33ms/step - loss: 0.0172 - accuracy: 0.9970 - val_loss: 0.8460 - val_accuracy: 0.8018\n",
      "Epoch 12/25\n",
      "31/31 [==============================] - 1s 33ms/step - loss: 0.0146 - accuracy: 0.9970 - val_loss: 0.7575 - val_accuracy: 0.8201\n",
      "Epoch 13/25\n",
      "31/31 [==============================] - 1s 34ms/step - loss: 0.0151 - accuracy: 0.9980 - val_loss: 0.8253 - val_accuracy: 0.8049\n",
      "Epoch 14/25\n",
      "31/31 [==============================] - 1s 33ms/step - loss: 0.0174 - accuracy: 0.9949 - val_loss: 0.8503 - val_accuracy: 0.8110\n",
      "Epoch 15/25\n",
      "31/31 [==============================] - 1s 33ms/step - loss: 0.0202 - accuracy: 0.9949 - val_loss: 0.8144 - val_accuracy: 0.8110\n",
      "Epoch 16/25\n",
      "31/31 [==============================] - 1s 33ms/step - loss: 0.0176 - accuracy: 0.9959 - val_loss: 0.8683 - val_accuracy: 0.8232\n",
      "Epoch 17/25\n",
      "31/31 [==============================] - 1s 33ms/step - loss: 0.0081 - accuracy: 0.9980 - val_loss: 0.9610 - val_accuracy: 0.8140\n",
      "Epoch 18/25\n",
      "31/31 [==============================] - 1s 33ms/step - loss: 0.0072 - accuracy: 0.9970 - val_loss: 0.8981 - val_accuracy: 0.8079\n",
      "Epoch 19/25\n",
      "31/31 [==============================] - 1s 33ms/step - loss: 0.0089 - accuracy: 0.9959 - val_loss: 0.8902 - val_accuracy: 0.8018\n",
      "Epoch 20/25\n",
      "31/31 [==============================] - 1s 33ms/step - loss: 0.0089 - accuracy: 0.9970 - val_loss: 0.8803 - val_accuracy: 0.8110\n",
      "Epoch 21/25\n",
      "31/31 [==============================] - 1s 33ms/step - loss: 0.0099 - accuracy: 0.9970 - val_loss: 0.9545 - val_accuracy: 0.8171\n",
      "Epoch 22/25\n",
      "31/31 [==============================] - 1s 33ms/step - loss: 0.0079 - accuracy: 0.9970 - val_loss: 0.8738 - val_accuracy: 0.8171\n",
      "Epoch 23/25\n",
      "31/31 [==============================] - 1s 33ms/step - loss: 0.0070 - accuracy: 0.9970 - val_loss: 1.0197 - val_accuracy: 0.8171\n",
      "Epoch 24/25\n",
      "31/31 [==============================] - 1s 33ms/step - loss: 0.0071 - accuracy: 0.9970 - val_loss: 1.0582 - val_accuracy: 0.8110\n",
      "Epoch 25/25\n",
      "31/31 [==============================] - 1s 33ms/step - loss: 0.0089 - accuracy: 0.9970 - val_loss: 0.9723 - val_accuracy: 0.8201\n"
     ]
    }
   ],
   "source": [
    "result = model3.fit(np.array(X_train), np.array(Y_train), epochs = 25, \n",
    "            validation_data=(X_test, np.array(Y_test)), initial_epoch=5)"
   ]
  },
  {
   "cell_type": "code",
   "execution_count": 37,
   "metadata": {},
   "outputs": [
    {
     "name": "stdout",
     "output_type": "stream",
     "text": [
      "              precision    recall  f1-score   support\n",
      "\n",
      "      benign       0.84      0.92      0.88       227\n",
      "   malignant       0.76      0.60      0.67       101\n",
      "\n",
      "    accuracy                           0.82       328\n",
      "   macro avg       0.80      0.76      0.77       328\n",
      "weighted avg       0.82      0.82      0.81       328\n",
      "\n"
     ]
    },
    {
     "name": "stderr",
     "output_type": "stream",
     "text": [
      "2022-02-21 22:20:33.236071: I tensorflow/core/grappler/optimizers/custom_graph_optimizer_registry.cc:112] Plugin optimizer for device_type GPU is enabled.\n"
     ]
    }
   ],
   "source": [
    "report(model3)"
   ]
  },
  {
   "cell_type": "markdown",
   "metadata": {},
   "source": [
    "## BASE Model with Keras Tuner & Augmentation"
   ]
  },
  {
   "cell_type": "code",
   "execution_count": 39,
   "metadata": {},
   "outputs": [],
   "source": [
    "random_search = RandomSearch(tuned_model, objective='val_accuracy',\n",
    "                          max_trials = 3, directory = 'output', project_name = \"augbcc\")"
   ]
  },
  {
   "cell_type": "code",
   "execution_count": 40,
   "metadata": {},
   "outputs": [
    {
     "name": "stdout",
     "output_type": "stream",
     "text": [
      "Trial 3 Complete [00h 00m 57s]\n",
      "val_accuracy: 0.8535947799682617\n",
      "\n",
      "Best val_accuracy So Far: 0.8535947799682617\n",
      "Total elapsed time: 00h 02m 12s\n",
      "INFO:tensorflow:Oracle triggered exit\n"
     ]
    }
   ],
   "source": [
    "#Search best parameters by training model\n",
    "random_search.search(np.array(x_train), np.array(y_train), epochs = 5, validation_data=(x_test, np.array(y_test)))"
   ]
  },
  {
   "cell_type": "code",
   "execution_count": 41,
   "metadata": {},
   "outputs": [
    {
     "name": "stdout",
     "output_type": "stream",
     "text": [
      "Model: \"sequential\"\n",
      "_________________________________________________________________\n",
      " Layer (type)                Output Shape              Param #   \n",
      "=================================================================\n",
      " conv2d (Conv2D)             (None, 124, 124, 64)      1664      \n",
      "                                                                 \n",
      " max_pooling2d (MaxPooling2D  (None, 62, 62, 64)       0         \n",
      " )                                                               \n",
      "                                                                 \n",
      " conv2d_1 (Conv2D)           (None, 58, 58, 64)        102464    \n",
      "                                                                 \n",
      " max_pooling2d_1 (MaxPooling  (None, 29, 29, 64)       0         \n",
      " 2D)                                                             \n",
      "                                                                 \n",
      " flatten (Flatten)           (None, 53824)             0         \n",
      "                                                                 \n",
      " dense (Dense)               (None, 96)                5167200   \n",
      "                                                                 \n",
      " dense_1 (Dense)             (None, 2)                 194       \n",
      "                                                                 \n",
      "=================================================================\n",
      "Total params: 5,271,522\n",
      "Trainable params: 5,271,522\n",
      "Non-trainable params: 0\n",
      "_________________________________________________________________\n"
     ]
    }
   ],
   "source": [
    "model4 = random_search.get_best_models(num_models=1)[0]   #Find the best parameter model\n",
    "model4.summary()"
   ]
  },
  {
   "cell_type": "code",
   "execution_count": 42,
   "metadata": {},
   "outputs": [
    {
     "name": "stdout",
     "output_type": "stream",
     "text": [
      "Epoch 6/25\n"
     ]
    },
    {
     "name": "stderr",
     "output_type": "stream",
     "text": [
      "2022-02-21 22:23:27.131869: I tensorflow/core/grappler/optimizers/custom_graph_optimizer_registry.cc:112] Plugin optimizer for device_type GPU is enabled.\n"
     ]
    },
    {
     "name": "stdout",
     "output_type": "stream",
     "text": [
      "72/72 [==============================] - ETA: 0s - loss: 0.2322 - accuracy: 0.9084"
     ]
    },
    {
     "name": "stderr",
     "output_type": "stream",
     "text": [
      "2022-02-21 22:23:37.082338: I tensorflow/core/grappler/optimizers/custom_graph_optimizer_registry.cc:112] Plugin optimizer for device_type GPU is enabled.\n"
     ]
    },
    {
     "name": "stdout",
     "output_type": "stream",
     "text": [
      "72/72 [==============================] - 12s 158ms/step - loss: 0.2322 - accuracy: 0.9084 - val_loss: 0.3276 - val_accuracy: 0.8523\n",
      "Epoch 7/25\n",
      "72/72 [==============================] - 11s 154ms/step - loss: 0.1424 - accuracy: 0.9446 - val_loss: 0.3488 - val_accuracy: 0.8575\n",
      "Epoch 8/25\n",
      "72/72 [==============================] - 11s 153ms/step - loss: 0.0982 - accuracy: 0.9682 - val_loss: 0.3816 - val_accuracy: 0.8784\n",
      "Epoch 9/25\n",
      "72/72 [==============================] - 11s 154ms/step - loss: 0.0841 - accuracy: 0.9716 - val_loss: 0.3330 - val_accuracy: 0.8876\n",
      "Epoch 10/25\n",
      "72/72 [==============================] - 11s 154ms/step - loss: 0.0480 - accuracy: 0.9847 - val_loss: 0.3691 - val_accuracy: 0.8784\n",
      "Epoch 11/25\n",
      "72/72 [==============================] - 11s 155ms/step - loss: 0.0293 - accuracy: 0.9926 - val_loss: 0.3405 - val_accuracy: 0.8810\n",
      "Epoch 12/25\n",
      "72/72 [==============================] - 11s 154ms/step - loss: 0.0193 - accuracy: 0.9956 - val_loss: 0.3843 - val_accuracy: 0.8863\n",
      "Epoch 13/25\n",
      "72/72 [==============================] - 11s 154ms/step - loss: 0.0125 - accuracy: 0.9969 - val_loss: 0.5333 - val_accuracy: 0.8771\n",
      "Epoch 14/25\n",
      "72/72 [==============================] - 11s 154ms/step - loss: 0.0145 - accuracy: 0.9956 - val_loss: 0.6090 - val_accuracy: 0.8797\n",
      "Epoch 15/25\n",
      "72/72 [==============================] - 11s 155ms/step - loss: 0.0196 - accuracy: 0.9952 - val_loss: 0.5171 - val_accuracy: 0.8745\n",
      "Epoch 16/25\n",
      "72/72 [==============================] - 11s 154ms/step - loss: 0.0156 - accuracy: 0.9943 - val_loss: 0.7225 - val_accuracy: 0.8523\n",
      "Epoch 17/25\n",
      "72/72 [==============================] - 11s 154ms/step - loss: 0.0803 - accuracy: 0.9716 - val_loss: 0.4852 - val_accuracy: 0.8837\n",
      "Epoch 18/25\n",
      "72/72 [==============================] - 11s 156ms/step - loss: 0.0143 - accuracy: 0.9956 - val_loss: 0.4833 - val_accuracy: 0.8941\n",
      "Epoch 19/25\n",
      "72/72 [==============================] - 11s 155ms/step - loss: 0.0120 - accuracy: 0.9974 - val_loss: 0.4687 - val_accuracy: 0.8928\n",
      "Epoch 20/25\n",
      "72/72 [==============================] - 11s 154ms/step - loss: 0.0060 - accuracy: 0.9987 - val_loss: 0.4856 - val_accuracy: 0.8980\n",
      "Epoch 21/25\n",
      "72/72 [==============================] - 11s 155ms/step - loss: 0.0121 - accuracy: 0.9974 - val_loss: 0.4629 - val_accuracy: 0.9007\n",
      "Epoch 22/25\n",
      "72/72 [==============================] - 11s 154ms/step - loss: 0.0101 - accuracy: 0.9974 - val_loss: 0.5264 - val_accuracy: 0.8928\n",
      "Epoch 23/25\n",
      "72/72 [==============================] - 11s 157ms/step - loss: 0.0069 - accuracy: 0.9983 - val_loss: 0.5531 - val_accuracy: 0.9007\n",
      "Epoch 24/25\n",
      "72/72 [==============================] - 11s 155ms/step - loss: 0.0029 - accuracy: 0.9987 - val_loss: 0.5752 - val_accuracy: 0.8850\n",
      "Epoch 25/25\n",
      "72/72 [==============================] - 11s 156ms/step - loss: 0.0052 - accuracy: 0.9987 - val_loss: 0.5703 - val_accuracy: 0.8837\n"
     ]
    }
   ],
   "source": [
    "result= model4.fit(np.array(x_train), np.array(y_train), epochs = 25, \n",
    "            validation_data=(x_test, np.array(y_test)), initial_epoch=5)"
   ]
  },
  {
   "cell_type": "code",
   "execution_count": 43,
   "metadata": {},
   "outputs": [
    {
     "name": "stderr",
     "output_type": "stream",
     "text": [
      "2022-02-21 22:27:25.021127: I tensorflow/core/grappler/optimizers/custom_graph_optimizer_registry.cc:112] Plugin optimizer for device_type GPU is enabled.\n"
     ]
    },
    {
     "name": "stdout",
     "output_type": "stream",
     "text": [
      "              precision    recall  f1-score   support\n",
      "\n",
      "      benign       0.85      0.89      0.87       328\n",
      "   malignant       0.91      0.88      0.90       437\n",
      "\n",
      "    accuracy                           0.88       765\n",
      "   macro avg       0.88      0.88      0.88       765\n",
      "weighted avg       0.89      0.88      0.88       765\n",
      "\n"
     ]
    }
   ],
   "source": [
    "report(model4, True)"
   ]
  },
  {
   "cell_type": "markdown",
   "metadata": {},
   "source": [
    "# AlexNet"
   ]
  },
  {
   "cell_type": "code",
   "execution_count": 44,
   "metadata": {},
   "outputs": [
    {
     "name": "stdout",
     "output_type": "stream",
     "text": [
      "Model: \"sequential_1\"\n",
      "_________________________________________________________________\n",
      " Layer (type)                Output Shape              Param #   \n",
      "=================================================================\n",
      " conv2d_2 (Conv2D)           (None, 30, 30, 96)        11712     \n",
      "                                                                 \n",
      " batch_normalization (BatchN  (None, 30, 30, 96)       384       \n",
      " ormalization)                                                   \n",
      "                                                                 \n",
      " max_pooling2d_2 (MaxPooling  (None, 14, 14, 96)       0         \n",
      " 2D)                                                             \n",
      "                                                                 \n",
      " conv2d_3 (Conv2D)           (None, 14, 14, 256)       614656    \n",
      "                                                                 \n",
      " batch_normalization_1 (Batc  (None, 14, 14, 256)      1024      \n",
      " hNormalization)                                                 \n",
      "                                                                 \n",
      " max_pooling2d_3 (MaxPooling  (None, 6, 6, 256)        0         \n",
      " 2D)                                                             \n",
      "                                                                 \n",
      " conv2d_4 (Conv2D)           (None, 6, 6, 384)         885120    \n",
      "                                                                 \n",
      " batch_normalization_2 (Batc  (None, 6, 6, 384)        1536      \n",
      " hNormalization)                                                 \n",
      "                                                                 \n",
      " conv2d_5 (Conv2D)           (None, 6, 6, 384)         1327488   \n",
      "                                                                 \n",
      " batch_normalization_3 (Batc  (None, 6, 6, 384)        1536      \n",
      " hNormalization)                                                 \n",
      "                                                                 \n",
      " conv2d_6 (Conv2D)           (None, 6, 6, 256)         884992    \n",
      "                                                                 \n",
      " batch_normalization_4 (Batc  (None, 6, 6, 256)        1024      \n",
      " hNormalization)                                                 \n",
      "                                                                 \n",
      " max_pooling2d_4 (MaxPooling  (None, 2, 2, 256)        0         \n",
      " 2D)                                                             \n",
      "                                                                 \n",
      " flatten_1 (Flatten)         (None, 1024)              0         \n",
      "                                                                 \n",
      " dense_2 (Dense)             (None, 4096)              4198400   \n",
      "                                                                 \n",
      " dropout (Dropout)           (None, 4096)              0         \n",
      "                                                                 \n",
      " dense_3 (Dense)             (None, 4096)              16781312  \n",
      "                                                                 \n",
      " dropout_1 (Dropout)         (None, 4096)              0         \n",
      "                                                                 \n",
      " dense_4 (Dense)             (None, 2)                 8194      \n",
      "                                                                 \n",
      "=================================================================\n",
      "Total params: 24,717,378\n",
      "Trainable params: 24,714,626\n",
      "Non-trainable params: 2,752\n",
      "_________________________________________________________________\n"
     ]
    }
   ],
   "source": [
    "model5 = Sequential([\n",
    "    layers.Conv2D(filters=96, kernel_size=(11,11), strides=(4,4), activation='relu', input_shape=(128,128,1)),\n",
    "    layers.BatchNormalization(),\n",
    "    layers.MaxPool2D(pool_size=(3,3), strides=(2,2)),\n",
    "    layers.Conv2D(filters=256, kernel_size=(5,5), strides=(1,1), activation='relu', padding=\"same\"),\n",
    "    layers.BatchNormalization(),\n",
    "    layers.MaxPool2D(pool_size=(3,3), strides=(2,2)),\n",
    "    layers.Conv2D(filters=384, kernel_size=(3,3), strides=(1,1), activation='relu', padding=\"same\"),\n",
    "    layers.BatchNormalization(),\n",
    "    layers.Conv2D(filters=384, kernel_size=(3,3), strides=(1,1), activation='relu', padding=\"same\"),\n",
    "    layers.BatchNormalization(),\n",
    "    layers.Conv2D(filters=256, kernel_size=(3,3), strides=(1,1), activation='relu', padding=\"same\"),\n",
    "    layers.BatchNormalization(),\n",
    "    layers.MaxPool2D(pool_size=(3,3), strides=(2,2)),\n",
    "    layers.Flatten(),\n",
    "    layers.Dense(4096, activation='relu'),\n",
    "    layers.Dropout(0.5),\n",
    "    layers.Dense(4096, activation='relu'),\n",
    "    layers.Dropout(0.5),\n",
    "    layers.Dense(2, activation='softmax')\n",
    "])\n",
    "    \n",
    "model5.compile(loss='sparse_categorical_crossentropy', optimizer='adam', metrics=['accuracy'])\n",
    "model5.summary()"
   ]
  },
  {
   "cell_type": "code",
   "execution_count": 45,
   "metadata": {},
   "outputs": [
    {
     "name": "stdout",
     "output_type": "stream",
     "text": [
      "Epoch 1/25\n"
     ]
    },
    {
     "name": "stderr",
     "output_type": "stream",
     "text": [
      "2022-02-21 22:27:36.057543: I tensorflow/core/grappler/optimizers/custom_graph_optimizer_registry.cc:112] Plugin optimizer for device_type GPU is enabled.\n",
      "2022-02-21 22:27:38.966912: I tensorflow/core/grappler/optimizers/custom_graph_optimizer_registry.cc:112] Plugin optimizer for device_type GPU is enabled.\n"
     ]
    },
    {
     "name": "stdout",
     "output_type": "stream",
     "text": [
      "31/31 - 3s - loss: 3.1556 - accuracy: 0.6209 - val_loss: 0.5536 - val_accuracy: 0.7165 - 3s/epoch - 112ms/step\n",
      "Epoch 2/25\n",
      "31/31 - 3s - loss: 0.6343 - accuracy: 0.6585 - val_loss: 0.6312 - val_accuracy: 0.6829 - 3s/epoch - 86ms/step\n",
      "Epoch 3/25\n",
      "31/31 - 3s - loss: 0.5872 - accuracy: 0.7022 - val_loss: 0.5813 - val_accuracy: 0.7134 - 3s/epoch - 85ms/step\n",
      "Epoch 4/25\n",
      "31/31 - 3s - loss: 0.5495 - accuracy: 0.7510 - val_loss: 0.8983 - val_accuracy: 0.3079 - 3s/epoch - 85ms/step\n",
      "Epoch 5/25\n",
      "31/31 - 3s - loss: 0.5182 - accuracy: 0.7307 - val_loss: 0.8416 - val_accuracy: 0.2774 - 3s/epoch - 85ms/step\n",
      "Epoch 6/25\n",
      "31/31 - 3s - loss: 0.4933 - accuracy: 0.7642 - val_loss: 1.0805 - val_accuracy: 0.2805 - 3s/epoch - 86ms/step\n",
      "Epoch 7/25\n",
      "31/31 - 3s - loss: 0.4371 - accuracy: 0.7957 - val_loss: 1.1130 - val_accuracy: 0.3323 - 3s/epoch - 85ms/step\n",
      "Epoch 8/25\n",
      "31/31 - 3s - loss: 0.4617 - accuracy: 0.8049 - val_loss: 0.8959 - val_accuracy: 0.4177 - 3s/epoch - 85ms/step\n",
      "Epoch 9/25\n",
      "31/31 - 3s - loss: 0.5335 - accuracy: 0.7673 - val_loss: 1.0599 - val_accuracy: 0.3079 - 3s/epoch - 85ms/step\n",
      "Epoch 10/25\n",
      "31/31 - 3s - loss: 0.4931 - accuracy: 0.8232 - val_loss: 0.8805 - val_accuracy: 0.5000 - 3s/epoch - 85ms/step\n",
      "Epoch 11/25\n",
      "31/31 - 3s - loss: 0.4987 - accuracy: 0.7937 - val_loss: 0.7310 - val_accuracy: 0.5518 - 3s/epoch - 85ms/step\n",
      "Epoch 12/25\n",
      "31/31 - 3s - loss: 0.4484 - accuracy: 0.8232 - val_loss: 1.3246 - val_accuracy: 0.5366 - 3s/epoch - 85ms/step\n",
      "Epoch 13/25\n",
      "31/31 - 3s - loss: 0.3839 - accuracy: 0.8435 - val_loss: 0.9614 - val_accuracy: 0.7165 - 3s/epoch - 85ms/step\n",
      "Epoch 14/25\n",
      "31/31 - 3s - loss: 0.3754 - accuracy: 0.8425 - val_loss: 1.3524 - val_accuracy: 0.6921 - 3s/epoch - 85ms/step\n",
      "Epoch 15/25\n",
      "31/31 - 3s - loss: 0.3396 - accuracy: 0.8648 - val_loss: 1.2672 - val_accuracy: 0.6921 - 3s/epoch - 85ms/step\n",
      "Epoch 16/25\n",
      "31/31 - 3s - loss: 0.3091 - accuracy: 0.8720 - val_loss: 1.0025 - val_accuracy: 0.7012 - 3s/epoch - 85ms/step\n",
      "Epoch 17/25\n",
      "31/31 - 3s - loss: 0.2950 - accuracy: 0.8882 - val_loss: 2.1676 - val_accuracy: 0.5854 - 3s/epoch - 85ms/step\n",
      "Epoch 18/25\n",
      "31/31 - 3s - loss: 0.3178 - accuracy: 0.8618 - val_loss: 1.8497 - val_accuracy: 0.7591 - 3s/epoch - 85ms/step\n",
      "Epoch 19/25\n",
      "31/31 - 3s - loss: 0.2625 - accuracy: 0.8984 - val_loss: 2.1802 - val_accuracy: 0.6006 - 3s/epoch - 85ms/step\n",
      "Epoch 20/25\n",
      "31/31 - 3s - loss: 0.2864 - accuracy: 0.8862 - val_loss: 1.0068 - val_accuracy: 0.7500 - 3s/epoch - 86ms/step\n",
      "Epoch 21/25\n",
      "31/31 - 3s - loss: 0.2830 - accuracy: 0.8852 - val_loss: 0.4001 - val_accuracy: 0.8537 - 3s/epoch - 85ms/step\n",
      "Epoch 22/25\n",
      "31/31 - 3s - loss: 0.4021 - accuracy: 0.8516 - val_loss: 1.0994 - val_accuracy: 0.6921 - 3s/epoch - 85ms/step\n",
      "Epoch 23/25\n",
      "31/31 - 3s - loss: 0.2288 - accuracy: 0.9085 - val_loss: 0.5434 - val_accuracy: 0.8110 - 3s/epoch - 85ms/step\n",
      "Epoch 24/25\n",
      "31/31 - 3s - loss: 0.2774 - accuracy: 0.9024 - val_loss: 0.9137 - val_accuracy: 0.7866 - 3s/epoch - 85ms/step\n",
      "Epoch 25/25\n",
      "31/31 - 3s - loss: 0.2009 - accuracy: 0.9350 - val_loss: 0.6494 - val_accuracy: 0.7988 - 3s/epoch - 85ms/step\n"
     ]
    },
    {
     "data": {
      "text/plain": [
       "<keras.callbacks.History at 0x2fc2bd7f0>"
      ]
     },
     "execution_count": 45,
     "metadata": {},
     "output_type": "execute_result"
    }
   ],
   "source": [
    "model5.fit(np.array(X_train), np.array(Y_train), epochs = 25, validation_data=(X_test, np.array(Y_test)), verbose = 2,\n",
    "          validation_freq=1)"
   ]
  },
  {
   "cell_type": "code",
   "execution_count": 46,
   "metadata": {},
   "outputs": [
    {
     "name": "stderr",
     "output_type": "stream",
     "text": [
      "2022-02-21 22:32:48.257792: I tensorflow/core/grappler/optimizers/custom_graph_optimizer_registry.cc:112] Plugin optimizer for device_type GPU is enabled.\n"
     ]
    },
    {
     "name": "stdout",
     "output_type": "stream",
     "text": [
      "              precision    recall  f1-score   support\n",
      "\n",
      "      benign       0.91      0.79      0.84       227\n",
      "   malignant       0.63      0.82      0.72       101\n",
      "\n",
      "    accuracy                           0.80       328\n",
      "   macro avg       0.77      0.81      0.78       328\n",
      "weighted avg       0.82      0.80      0.80       328\n",
      "\n"
     ]
    }
   ],
   "source": [
    "report(model5)"
   ]
  },
  {
   "cell_type": "markdown",
   "metadata": {
    "id": "KO3v1etYVGS2"
   },
   "source": [
    "# ResNet50"
   ]
  },
  {
   "cell_type": "code",
   "execution_count": 47,
   "metadata": {
    "colab": {
     "base_uri": "https://localhost:8080/"
    },
    "id": "PprTwwokVGS2",
    "outputId": "cbf89d57-2977-4ee9-8fbf-5573f7613dd2"
   },
   "outputs": [
    {
     "name": "stdout",
     "output_type": "stream",
     "text": [
      "Model: \"sequential_2\"\n",
      "_________________________________________________________________\n",
      " Layer (type)                Output Shape              Param #   \n",
      "=================================================================\n",
      " model (Functional)          (None, 32768)             23581440  \n",
      "                                                                 \n",
      " dense_5 (Dense)             (None, 2)                 65538     \n",
      "                                                                 \n",
      "=================================================================\n",
      "Total params: 23,646,978\n",
      "Trainable params: 65,538\n",
      "Non-trainable params: 23,581,440\n",
      "_________________________________________________________________\n"
     ]
    }
   ],
   "source": [
    "restnet = ResNet50(include_top = False, weights= None , input_shape=(128, 128, 1))\n",
    "output = restnet.layers[-1].output\n",
    "output = layers.Flatten()(output)\n",
    "\n",
    "restnet = Model(restnet.input, output)\n",
    "\n",
    "for layer in restnet.layers:\n",
    "    layer.trainable = False\n",
    "\n",
    "model6 = Sequential([\n",
    "            restnet,\n",
    "            layers.Dense(2, activation=\"softmax\")\n",
    "])\n",
    "\n",
    "model6.compile(loss = tf.keras.losses.SparseCategoricalCrossentropy(from_logits = True),\n",
    "optimizer='adam',\n",
    "metrics=['accuracy'])\n",
    "model6.summary() "
   ]
  },
  {
   "cell_type": "code",
   "execution_count": 48,
   "metadata": {
    "colab": {
     "base_uri": "https://localhost:8080/"
    },
    "id": "ta81HB6QVGS2",
    "outputId": "39b01454-f7cc-4483-91cf-7400b77ccc54"
   },
   "outputs": [
    {
     "name": "stdout",
     "output_type": "stream",
     "text": [
      "Epoch 1/10\n"
     ]
    },
    {
     "name": "stderr",
     "output_type": "stream",
     "text": [
      "2022-02-21 22:33:13.048860: I tensorflow/core/grappler/optimizers/custom_graph_optimizer_registry.cc:112] Plugin optimizer for device_type GPU is enabled.\n",
      "2022-02-21 22:33:26.376702: I tensorflow/core/grappler/optimizers/custom_graph_optimizer_registry.cc:112] Plugin optimizer for device_type GPU is enabled.\n"
     ]
    },
    {
     "name": "stdout",
     "output_type": "stream",
     "text": [
      "984/984 - 19s - loss: 1.3144 - accuracy: 0.6087 - val_loss: 1.1491 - val_accuracy: 0.5396 - 19s/epoch - 19ms/step\n",
      "Epoch 2/10\n",
      "984/984 - 17s - loss: 1.0267 - accuracy: 0.6646 - val_loss: 0.8376 - val_accuracy: 0.7012 - 17s/epoch - 17ms/step\n",
      "Epoch 3/10\n",
      "984/984 - 17s - loss: 0.9800 - accuracy: 0.6829 - val_loss: 0.6102 - val_accuracy: 0.7439 - 17s/epoch - 17ms/step\n",
      "Epoch 4/10\n",
      "984/984 - 16s - loss: 0.9087 - accuracy: 0.7083 - val_loss: 1.3309 - val_accuracy: 0.5122 - 16s/epoch - 17ms/step\n",
      "Epoch 5/10\n",
      "984/984 - 16s - loss: 0.8343 - accuracy: 0.7185 - val_loss: 1.2450 - val_accuracy: 0.7195 - 16s/epoch - 17ms/step\n",
      "Epoch 6/10\n",
      "984/984 - 16s - loss: 1.0682 - accuracy: 0.7063 - val_loss: 1.7599 - val_accuracy: 0.7012 - 16s/epoch - 17ms/step\n",
      "Epoch 7/10\n",
      "984/984 - 16s - loss: 0.7321 - accuracy: 0.7541 - val_loss: 0.6298 - val_accuracy: 0.7500 - 16s/epoch - 17ms/step\n",
      "Epoch 8/10\n",
      "984/984 - 17s - loss: 0.7980 - accuracy: 0.7246 - val_loss: 0.8307 - val_accuracy: 0.7561 - 17s/epoch - 17ms/step\n",
      "Epoch 9/10\n",
      "984/984 - 16s - loss: 0.8197 - accuracy: 0.7459 - val_loss: 0.7864 - val_accuracy: 0.7622 - 16s/epoch - 17ms/step\n",
      "Epoch 10/10\n",
      "984/984 - 17s - loss: 0.8805 - accuracy: 0.7510 - val_loss: 0.6963 - val_accuracy: 0.7713 - 17s/epoch - 17ms/step\n"
     ]
    }
   ],
   "source": [
    "result = model6.fit(\n",
    "    np.array(X_train),\n",
    "    np.array(Y_train),\n",
    "    steps_per_epoch=len(X_train),\n",
    "    epochs=10,\n",
    "    validation_data=(X_test, np.array(Y_test)),\n",
    "    validation_steps=len(X_test),\n",
    "    verbose=2\n",
    ")"
   ]
  },
  {
   "cell_type": "code",
   "execution_count": 49,
   "metadata": {},
   "outputs": [
    {
     "name": "stderr",
     "output_type": "stream",
     "text": [
      "2022-02-21 22:37:41.769771: I tensorflow/core/grappler/optimizers/custom_graph_optimizer_registry.cc:112] Plugin optimizer for device_type GPU is enabled.\n"
     ]
    },
    {
     "name": "stdout",
     "output_type": "stream",
     "text": [
      "              precision    recall  f1-score   support\n",
      "\n",
      "      benign       0.79      0.90      0.85       227\n",
      "   malignant       0.69      0.48      0.56       101\n",
      "\n",
      "    accuracy                           0.77       328\n",
      "   macro avg       0.74      0.69      0.70       328\n",
      "weighted avg       0.76      0.77      0.76       328\n",
      "\n"
     ]
    }
   ],
   "source": [
    "report(model6)"
   ]
  },
  {
   "cell_type": "markdown",
   "metadata": {
    "id": "dl214VCQVGS3"
   },
   "source": [
    "# DenseNet 201"
   ]
  },
  {
   "cell_type": "code",
   "execution_count": 50,
   "metadata": {
    "id": "9ADH5AaFVGS3",
    "outputId": "78cc69be-10af-471d-a26e-7cd899f6e0e2"
   },
   "outputs": [
    {
     "name": "stdout",
     "output_type": "stream",
     "text": [
      "Model: \"sequential_3\"\n",
      "_________________________________________________________________\n",
      " Layer (type)                Output Shape              Param #   \n",
      "=================================================================\n",
      " model_1 (Functional)        (None, 30720)             18315712  \n",
      "                                                                 \n",
      " dense_6 (Dense)             (None, 2)                 61442     \n",
      "                                                                 \n",
      "=================================================================\n",
      "Total params: 18,377,154\n",
      "Trainable params: 61,442\n",
      "Non-trainable params: 18,315,712\n",
      "_________________________________________________________________\n"
     ]
    }
   ],
   "source": [
    "densenet = DenseNet201(include_top = False, weights = None , input_shape = (128, 128, 1))\n",
    "output = densenet.layers[-1].output\n",
    "output = keras.layers.Flatten()(output)\n",
    "\n",
    "densenet = Model(densenet.input, output)\n",
    "\n",
    "for layer in densenet.layers:\n",
    "    layer.trainable = False\n",
    "\n",
    "model7 = Sequential([\n",
    "            densenet,\n",
    "            layers.Dense(2, activation=\"softmax\")\n",
    "])\n",
    "\n",
    "model7.compile( loss = tf.keras.losses.SparseCategoricalCrossentropy(from_logits = True),\n",
    "optimizer='adam',\n",
    "metrics=[ 'accuracy'])\n",
    "model7.summary()"
   ]
  },
  {
   "cell_type": "code",
   "execution_count": 51,
   "metadata": {
    "id": "BsFSmxyIVGS4",
    "outputId": "98c053d8-3e8f-43b4-ad2f-d3cbec1915c1"
   },
   "outputs": [
    {
     "name": "stdout",
     "output_type": "stream",
     "text": [
      "Epoch 1/10\n"
     ]
    },
    {
     "name": "stderr",
     "output_type": "stream",
     "text": [
      "2022-02-21 22:38:05.751683: I tensorflow/core/grappler/optimizers/custom_graph_optimizer_registry.cc:112] Plugin optimizer for device_type GPU is enabled.\n",
      "2022-02-21 22:38:44.253460: I tensorflow/core/grappler/optimizers/custom_graph_optimizer_registry.cc:112] Plugin optimizer for device_type GPU is enabled.\n"
     ]
    },
    {
     "name": "stdout",
     "output_type": "stream",
     "text": [
      "984/984 - 56s - loss: 0.6416 - accuracy: 0.6646 - val_loss: 0.6317 - val_accuracy: 0.7043 - 56s/epoch - 57ms/step\n",
      "Epoch 2/10\n",
      "984/984 - 51s - loss: 0.5993 - accuracy: 0.7104 - val_loss: 0.5860 - val_accuracy: 0.7530 - 51s/epoch - 52ms/step\n",
      "Epoch 3/10\n",
      "984/984 - 52s - loss: 0.5682 - accuracy: 0.7154 - val_loss: 0.5704 - val_accuracy: 0.7744 - 52s/epoch - 53ms/step\n",
      "Epoch 4/10\n",
      "984/984 - 51s - loss: 0.5504 - accuracy: 0.7388 - val_loss: 0.5469 - val_accuracy: 0.7348 - 51s/epoch - 52ms/step\n",
      "Epoch 5/10\n",
      "984/984 - 51s - loss: 0.5297 - accuracy: 0.7612 - val_loss: 0.5264 - val_accuracy: 0.7530 - 51s/epoch - 52ms/step\n",
      "Epoch 6/10\n",
      "984/984 - 50s - loss: 0.5223 - accuracy: 0.7663 - val_loss: 0.5362 - val_accuracy: 0.7317 - 50s/epoch - 51ms/step\n",
      "Epoch 7/10\n",
      "984/984 - 51s - loss: 0.5124 - accuracy: 0.7693 - val_loss: 0.5126 - val_accuracy: 0.7622 - 51s/epoch - 52ms/step\n",
      "Epoch 8/10\n",
      "984/984 - 51s - loss: 0.4973 - accuracy: 0.7754 - val_loss: 0.5195 - val_accuracy: 0.7591 - 51s/epoch - 51ms/step\n",
      "Epoch 9/10\n",
      "984/984 - 51s - loss: 0.4910 - accuracy: 0.7774 - val_loss: 0.5403 - val_accuracy: 0.7439 - 51s/epoch - 52ms/step\n",
      "Epoch 10/10\n",
      "984/984 - 51s - loss: 0.4885 - accuracy: 0.7724 - val_loss: 0.5144 - val_accuracy: 0.7470 - 51s/epoch - 52ms/step\n"
     ]
    }
   ],
   "source": [
    "result = model7.fit(\n",
    "    np.array(X_train),\n",
    "    np.array(Y_train),\n",
    "    steps_per_epoch=len(X_train),\n",
    "    epochs=10,\n",
    "    validation_data=(X_test, np.array(Y_test)),\n",
    "    validation_steps=len(Y_test),\n",
    "    verbose=2\n",
    ")"
   ]
  },
  {
   "cell_type": "code",
   "execution_count": 52,
   "metadata": {},
   "outputs": [
    {
     "name": "stderr",
     "output_type": "stream",
     "text": [
      "2022-02-21 22:46:46.113868: I tensorflow/core/grappler/optimizers/custom_graph_optimizer_registry.cc:112] Plugin optimizer for device_type GPU is enabled.\n"
     ]
    },
    {
     "name": "stdout",
     "output_type": "stream",
     "text": [
      "              precision    recall  f1-score   support\n",
      "\n",
      "      benign       0.75      0.95      0.84       227\n",
      "   malignant       0.71      0.30      0.42       101\n",
      "\n",
      "    accuracy                           0.75       328\n",
      "   macro avg       0.73      0.62      0.63       328\n",
      "weighted avg       0.74      0.75      0.71       328\n",
      "\n"
     ]
    }
   ],
   "source": [
    "report(model7)"
   ]
  },
  {
   "cell_type": "markdown",
   "metadata": {
    "id": "eWreEii3VGS4"
   },
   "source": [
    "# VGG16"
   ]
  },
  {
   "cell_type": "code",
   "execution_count": 53,
   "metadata": {},
   "outputs": [],
   "source": [
    "X, labels = vgg_transform_feature(data)   #Call the function to transform and return with image array & label\n",
    "X_train, X_test, Y_train, Y_test = train_test_split(X , labels, train_size=0.75, random_state=42)"
   ]
  },
  {
   "cell_type": "code",
   "execution_count": 54,
   "metadata": {
    "id": "7qORQuK0VGS5"
   },
   "outputs": [
    {
     "name": "stdout",
     "output_type": "stream",
     "text": [
      "Model: \"model_2\"\n",
      "_________________________________________________________________\n",
      " Layer (type)                Output Shape              Param #   \n",
      "=================================================================\n",
      " input_3 (InputLayer)        [(None, 299, 299, 1)]     0         \n",
      "                                                                 \n",
      " block1_conv1 (Conv2D)       (None, 299, 299, 64)      640       \n",
      "                                                                 \n",
      " block1_conv2 (Conv2D)       (None, 299, 299, 64)      36928     \n",
      "                                                                 \n",
      " block1_pool (MaxPooling2D)  (None, 149, 149, 64)      0         \n",
      "                                                                 \n",
      " block2_conv1 (Conv2D)       (None, 149, 149, 128)     73856     \n",
      "                                                                 \n",
      " block2_conv2 (Conv2D)       (None, 149, 149, 128)     147584    \n",
      "                                                                 \n",
      " block2_pool (MaxPooling2D)  (None, 74, 74, 128)       0         \n",
      "                                                                 \n",
      " block3_conv1 (Conv2D)       (None, 74, 74, 256)       295168    \n",
      "                                                                 \n",
      " block3_conv2 (Conv2D)       (None, 74, 74, 256)       590080    \n",
      "                                                                 \n",
      " block3_conv3 (Conv2D)       (None, 74, 74, 256)       590080    \n",
      "                                                                 \n",
      " block3_pool (MaxPooling2D)  (None, 37, 37, 256)       0         \n",
      "                                                                 \n",
      " block4_conv1 (Conv2D)       (None, 37, 37, 512)       1180160   \n",
      "                                                                 \n",
      " block4_conv2 (Conv2D)       (None, 37, 37, 512)       2359808   \n",
      "                                                                 \n",
      " block4_conv3 (Conv2D)       (None, 37, 37, 512)       2359808   \n",
      "                                                                 \n",
      " block4_pool (MaxPooling2D)  (None, 18, 18, 512)       0         \n",
      "                                                                 \n",
      " block5_conv1 (Conv2D)       (None, 18, 18, 512)       2359808   \n",
      "                                                                 \n",
      " block5_conv2 (Conv2D)       (None, 18, 18, 512)       2359808   \n",
      "                                                                 \n",
      " block5_conv3 (Conv2D)       (None, 18, 18, 512)       2359808   \n",
      "                                                                 \n",
      " block5_pool (MaxPooling2D)  (None, 9, 9, 512)         0         \n",
      "                                                                 \n",
      " flatten_4 (Flatten)         (None, 41472)             0         \n",
      "                                                                 \n",
      " dense_7 (Dense)             (None, 2)                 82946     \n",
      "                                                                 \n",
      "=================================================================\n",
      "Total params: 14,796,482\n",
      "Trainable params: 82,946\n",
      "Non-trainable params: 14,713,536\n",
      "_________________________________________________________________\n"
     ]
    }
   ],
   "source": [
    "vgg = VGG16(input_shape = (299, 299, 1), weights=None, include_top=False)\n",
    "\n",
    "for layer in vgg.layers:       #To freeze the previous layers\n",
    "  layer.trainable = False\n",
    "\n",
    "x = Flatten()(vgg.output)\n",
    "output = layers.Dense(2, activation='softmax')(x)\n",
    "\n",
    "model8 = Model(inputs=vgg.input, outputs=output)\n",
    "model8.compile(\n",
    "  loss=tf.keras.losses.SparseCategoricalCrossentropy(from_logits = True),\n",
    "  optimizer='adam',\n",
    "  metrics=['accuracy']\n",
    ")\n",
    "model8.summary()"
   ]
  },
  {
   "cell_type": "code",
   "execution_count": 55,
   "metadata": {
    "id": "yHNGW1bcVGS6",
    "outputId": "89cf3be7-e6eb-4f67-a02f-6cf57425e052"
   },
   "outputs": [
    {
     "name": "stdout",
     "output_type": "stream",
     "text": [
      "Epoch 1/10\n"
     ]
    },
    {
     "name": "stderr",
     "output_type": "stream",
     "text": [
      "2022-02-21 22:47:22.237331: I tensorflow/core/grappler/optimizers/custom_graph_optimizer_registry.cc:112] Plugin optimizer for device_type GPU is enabled.\n",
      "2022-02-21 22:47:53.785357: I tensorflow/core/grappler/optimizers/custom_graph_optimizer_registry.cc:112] Plugin optimizer for device_type GPU is enabled.\n"
     ]
    },
    {
     "name": "stdout",
     "output_type": "stream",
     "text": [
      "984/984 - 42s - loss: 0.6490 - accuracy: 0.6677 - val_loss: 0.6332 - val_accuracy: 0.6921 - 42s/epoch - 43ms/step\n",
      "Epoch 2/10\n",
      "984/984 - 42s - loss: 0.6279 - accuracy: 0.6758 - val_loss: 0.6166 - val_accuracy: 0.6982 - 42s/epoch - 42ms/step\n",
      "Epoch 3/10\n",
      "984/984 - 42s - loss: 0.6147 - accuracy: 0.6921 - val_loss: 0.6044 - val_accuracy: 0.7043 - 42s/epoch - 42ms/step\n",
      "Epoch 4/10\n",
      "984/984 - 41s - loss: 0.6069 - accuracy: 0.6951 - val_loss: 0.6020 - val_accuracy: 0.7012 - 41s/epoch - 42ms/step\n",
      "Epoch 5/10\n",
      "984/984 - 41s - loss: 0.5976 - accuracy: 0.6951 - val_loss: 0.5868 - val_accuracy: 0.7134 - 41s/epoch - 42ms/step\n",
      "Epoch 6/10\n",
      "984/984 - 41s - loss: 0.5912 - accuracy: 0.6992 - val_loss: 0.5797 - val_accuracy: 0.7165 - 41s/epoch - 42ms/step\n",
      "Epoch 7/10\n",
      "984/984 - 70s - loss: 0.5850 - accuracy: 0.6992 - val_loss: 0.5733 - val_accuracy: 0.7226 - 70s/epoch - 71ms/step\n",
      "Epoch 8/10\n",
      "984/984 - 41s - loss: 0.5812 - accuracy: 0.6992 - val_loss: 0.5673 - val_accuracy: 0.7195 - 41s/epoch - 42ms/step\n",
      "Epoch 9/10\n",
      "984/984 - 42s - loss: 0.5729 - accuracy: 0.7083 - val_loss: 0.5701 - val_accuracy: 0.7195 - 42s/epoch - 43ms/step\n",
      "Epoch 10/10\n",
      "984/984 - 83s - loss: 0.5696 - accuracy: 0.7134 - val_loss: 0.5601 - val_accuracy: 0.7287 - 83s/epoch - 85ms/step\n"
     ]
    }
   ],
   "source": [
    "result = model8.fit(\n",
    "    np.array(X_train),\n",
    "    np.array(Y_train),\n",
    "    steps_per_epoch=len(X_train),\n",
    "    epochs=10,\n",
    "    validation_data=(X_test, np.array(Y_test)),\n",
    "    validation_steps=len(Y_test),\n",
    "    verbose=2\n",
    ")"
   ]
  },
  {
   "cell_type": "code",
   "execution_count": 56,
   "metadata": {
    "id": "6sZwVUlae3S4",
    "outputId": "e6abb418-89fa-452d-dc53-3ebd52948659"
   },
   "outputs": [
    {
     "name": "stderr",
     "output_type": "stream",
     "text": [
      "2022-02-21 22:57:22.839591: I tensorflow/core/grappler/optimizers/custom_graph_optimizer_registry.cc:112] Plugin optimizer for device_type GPU is enabled.\n"
     ]
    },
    {
     "name": "stdout",
     "output_type": "stream",
     "text": [
      "              precision    recall  f1-score   support\n",
      "\n",
      "      benign       0.72      0.98      0.83       227\n",
      "   malignant       0.80      0.16      0.26       101\n",
      "\n",
      "    accuracy                           0.73       328\n",
      "   macro avg       0.76      0.57      0.55       328\n",
      "weighted avg       0.75      0.73      0.66       328\n",
      "\n"
     ]
    }
   ],
   "source": [
    "report(model8)"
   ]
  }
 ],
 "metadata": {
  "accelerator": "GPU",
  "colab": {
   "collapsed_sections": [],
   "name": "Breast_Cancer_Classification_using_Deep_learning.ipynb",
   "provenance": []
  },
  "kernelspec": {
   "display_name": "Python 3 (ipykernel)",
   "language": "python",
   "name": "python3"
  },
  "language_info": {
   "codemirror_mode": {
    "name": "ipython",
    "version": 3
   },
   "file_extension": ".py",
   "mimetype": "text/x-python",
   "name": "python",
   "nbconvert_exporter": "python",
   "pygments_lexer": "ipython3",
   "version": "3.8.13"
  }
 },
 "nbformat": 4,
 "nbformat_minor": 1
}
